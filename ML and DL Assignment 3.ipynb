{
 "cells": [
  {
   "cell_type": "markdown",
   "id": "971ec5c0",
   "metadata": {},
   "source": [
    "#Task 3\n",
    "\n",
    "Registration ID : SIRSS1038\n",
    "\n",
    "Leela Satya Kartheek Raja"
   ]
  },
  {
   "cell_type": "markdown",
   "id": "2ac81a5c",
   "metadata": {},
   "source": [
    "\n",
    "Q1. Write a function to return nth term of Fibonacci sequence"
   ]
  },
  {
   "cell_type": "code",
   "execution_count": 1,
   "id": "f379c1ba",
   "metadata": {},
   "outputs": [
    {
     "name": "stdout",
     "output_type": "stream",
     "text": [
      "Enter a Number : 10\n",
      "0 1 1 2 3 5 8 13 21 34 "
     ]
    }
   ],
   "source": [
    "def Fibonacci(j) :\n",
    "    if j <= 1 :\n",
    "        return j\n",
    "    else : \n",
    "        return (Fibonacci(j-1) + Fibonacci(j-2))\n",
    "    \n",
    "N = int(input(\"Enter a Number : \"))\n",
    "\n",
    "if N < 0 :\n",
    "    print(\"Please Enter Positive Number \")\n",
    "else :\n",
    "    for i in range(N) :\n",
    "        print(Fibonacci(i), end = \" \")"
   ]
  },
  {
   "cell_type": "markdown",
   "id": "97645fda",
   "metadata": {},
   "source": [
    "Q2. Write a function to find out GCD of two numbers using EUCLID'S algorithm"
   ]
  },
  {
   "cell_type": "code",
   "execution_count": 2,
   "id": "7d453524",
   "metadata": {},
   "outputs": [
    {
     "name": "stdout",
     "output_type": "stream",
     "text": [
      "Enter first Number : 85\n",
      "Enter second Number : 98\n",
      "GCD of (85,98) =  1\n"
     ]
    }
   ],
   "source": [
    "i1 = int(input(\"Enter first Number : \"))\n",
    "i2 = int(input(\"Enter second Number : \"))\n",
    "def gcd(N1, N2) :\n",
    "    if N2 == 0 :\n",
    "        return N1\n",
    "    else :\n",
    "        return gcd(N2, N1 % N2)\n",
    "        \n",
    "print(f\"GCD of ({i1},{i2}) = \", gcd(i1, i2))"
   ]
  },
  {
   "cell_type": "markdown",
   "id": "a88b7bf0",
   "metadata": {},
   "source": [
    "\n",
    "Q3. Write a function to find LCM of two number in most optimizers way"
   ]
  },
  {
   "cell_type": "code",
   "execution_count": 3,
   "id": "3d634e5c",
   "metadata": {},
   "outputs": [
    {
     "name": "stdout",
     "output_type": "stream",
     "text": [
      "Enter first Number : 58\n",
      "Enter second Number : 58\n",
      "LCM of (58,58) =  58.0\n"
     ]
    }
   ],
   "source": [
    "i1 = int(input(\"Enter first Number : \"))\n",
    "i2 = int(input(\"Enter second Number : \"))\n",
    "def gcd(N1, N2) :\n",
    "    if N2 == 0 :\n",
    "        return N1\n",
    "    else :\n",
    "        return gcd(N2, N1 % N2)\n",
    "    \n",
    "def lcm(N1, N2) :\n",
    "    return (N1 / gcd(N1,N2)) * N2\n",
    "\n",
    "print(f\"LCM of ({i1},{i2}) = \", lcm(i1, i2))"
   ]
  },
  {
   "cell_type": "code",
   "execution_count": null,
   "id": "5a2e6243",
   "metadata": {},
   "outputs": [],
   "source": []
  }
 ],
 "metadata": {
  "kernelspec": {
   "display_name": "Python 3",
   "language": "python",
   "name": "python3"
  },
  "language_info": {
   "codemirror_mode": {
    "name": "ipython",
    "version": 3
   },
   "file_extension": ".py",
   "mimetype": "text/x-python",
   "name": "python",
   "nbconvert_exporter": "python",
   "pygments_lexer": "ipython3",
   "version": "3.8.8"
  }
 },
 "nbformat": 4,
 "nbformat_minor": 5
}
